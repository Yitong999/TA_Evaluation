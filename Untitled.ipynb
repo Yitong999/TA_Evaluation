{
 "cells": [
  {
   "cell_type": "code",
   "execution_count": 40,
   "id": "3d5d3771-dac4-48a3-9f7d-f0dff5e0fc96",
   "metadata": {},
   "outputs": [],
   "source": [
    "import numpy as np"
   ]
  },
  {
   "cell_type": "code",
   "execution_count": 42,
   "id": "b4ef4244-fb21-4ab0-ba79-6be758a1f718",
   "metadata": {},
   "outputs": [],
   "source": [
    "survey_1 = {\n",
    "    'name': 'Tom',\n",
    "    'score': [2,4,5,3,2,1],\n",
    "    'comment': 'good'\n",
    "} \n",
    "\n",
    "survey_2 = {\n",
    "    'name': 'Tom',\n",
    "    'score': [4,4,5,3,2,1],\n",
    "    'comment': 'good'\n",
    "} \n",
    "\n",
    "survey_3 = {\n",
    "    'name': 'Tom',\n",
    "    'score': [1,4,1,3,0,1],\n",
    "    'comment': 'bad'\n",
    "} "
   ]
  },
  {
   "cell_type": "code",
   "execution_count": 43,
   "id": "e5a06301-e9f3-429e-b3be-74c059df16d1",
   "metadata": {},
   "outputs": [
    {
     "name": "stdout",
     "output_type": "stream",
     "text": [
      "[{'name': 'Tom', 'score': [2, 4, 5, 3, 2, 1], 'comment': 'good'}, {'name': 'Tom', 'score': [4, 4, 5, 3, 2, 1], 'comment': 'good'}, {'name': 'Tom', 'score': [1, 4, 1, 3, 0, 1], 'comment': 'bad'}]\n",
      "[4, 4, 5, 3, 2, 1]\n"
     ]
    }
   ],
   "source": [
    "result = []\n",
    "result.append(survey_1)\n",
    "result.append(survey_2)\n",
    "result.append(survey_3)\n",
    "\n",
    "print(result)\n",
    "\n",
    "print(result[1]['score'])"
   ]
  },
  {
   "cell_type": "code",
   "execution_count": 44,
   "id": "d6ccf02c-d794-4549-9fe5-cd33d3d56893",
   "metadata": {},
   "outputs": [
    {
     "name": "stdout",
     "output_type": "stream",
     "text": [
      "scores:  [2, 4, 5, 3, 2, 1]\n",
      "scores:  [4, 4, 5, 3, 2, 1]\n",
      "scores:  [1, 4, 1, 3, 0, 1]\n",
      "[[1. 0. 1. 0. 0. 3.]\n",
      " [1. 0. 0. 0. 2. 0.]\n",
      " [0. 0. 0. 3. 0. 0.]\n",
      " [1. 3. 0. 0. 0. 0.]\n",
      " [0. 0. 2. 0. 1. 0.]]\n",
      "['good', 'good', 'bad']\n"
     ]
    }
   ],
   "source": [
    "# compute part\n",
    "output_array = np.zeros((5, 6))\n",
    "output_comment = []\n",
    "\n",
    "for i in range(len(result)):\n",
    "    scores = result[i]['score']\n",
    "    print('scores: ', scores)\n",
    "    for j in range(len(scores)):\n",
    "        question = j\n",
    "        score = scores[j]\n",
    "        # print(question, score)\n",
    "        \n",
    "        output_array[score-1][question] += 1\n",
    "\n",
    "    output_comment.append(result[i]['comment'])\n",
    "\n",
    "print(output_array)\n",
    "print(output_comment)"
   ]
  },
  {
   "cell_type": "code",
   "execution_count": null,
   "id": "0bd264f6-7fbe-4d90-9b64-aa8a54261939",
   "metadata": {},
   "outputs": [],
   "source": []
  }
 ],
 "metadata": {
  "kernelspec": {
   "display_name": "Python 3 (ipykernel)",
   "language": "python",
   "name": "python3"
  },
  "language_info": {
   "codemirror_mode": {
    "name": "ipython",
    "version": 3
   },
   "file_extension": ".py",
   "mimetype": "text/x-python",
   "name": "python",
   "nbconvert_exporter": "python",
   "pygments_lexer": "ipython3",
   "version": "3.10.10"
  }
 },
 "nbformat": 4,
 "nbformat_minor": 5
}
