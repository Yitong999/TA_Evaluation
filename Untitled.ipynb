{
 "cells": [
  {
   "cell_type": "code",
   "execution_count": 12,
   "id": "dbf439ea-31f7-466f-9e2e-3b9fb8ab205d",
   "metadata": {},
   "outputs": [],
   "source": [
    "import numpy as np"
   ]
  },
  {
   "cell_type": "code",
   "execution_count": 34,
   "id": "fbfe27e9-52e8-4919-958c-6d48ad62876a",
   "metadata": {},
   "outputs": [],
   "source": [
    "survey_1 = {\n",
    "    'name': 'Tom',\n",
    "    'score': [2,4,5,3,2,1],\n",
    "    'comment': 'good'\n",
    "} "
   ]
  },
  {
   "cell_type": "code",
   "execution_count": 35,
   "id": "174f9db0-3617-4194-8f20-cad5664f8dfe",
   "metadata": {},
   "outputs": [],
   "source": [
    "survey_2 = {\n",
    "    'name': 'Tom',\n",
    "    'score': [4,4,5,3,2,1],\n",
    "    'comment': 'good'\n",
    "} "
   ]
  },
  {
   "cell_type": "code",
   "execution_count": 36,
   "id": "b1590fbd-6457-45d1-92d8-edd1759203f5",
   "metadata": {},
   "outputs": [],
   "source": [
    "survey_3 = {\n",
    "    'name': 'Tom',\n",
    "    'score': [1,4,1,3,0,1],\n",
    "    'comment': 'bad'\n",
    "} "
   ]
  },
  {
   "cell_type": "code",
   "execution_count": 37,
   "id": "6d4aecf7-f72c-43a2-a3e9-3bd75ccc0a05",
   "metadata": {},
   "outputs": [
    {
     "name": "stdout",
     "output_type": "stream",
     "text": [
      "[{'name': 'Tom', 'score': [2, 4, 5, 3, 2, 1], 'comment': 'good'}, {'name': 'Tom', 'score': [4, 4, 5, 3, 2, 1], 'comment': 'good'}, {'name': 'Tom', 'score': [1, 4, 1, 3, 0, 1], 'comment': 'bad'}]\n",
      "[4, 4, 5, 3, 2, 1]\n"
     ]
    }
   ],
   "source": [
    "result = []\n",
    "result.append(survey_1)\n",
    "result.append(survey_2)\n",
    "result.append(survey_3)\n",
    "\n",
    "print(result)\n",
    "\n",
    "print(result[1]['score'])"
   ]
  },
  {
   "cell_type": "code",
   "execution_count": 39,
   "id": "b5c5990d-402a-4034-8737-d3cf0efa6d86",
   "metadata": {},
   "outputs": [
    {
     "name": "stdout",
     "output_type": "stream",
     "text": [
      "scores:  [2, 4, 5, 3, 2, 1]\n",
      "scores:  [4, 4, 5, 3, 2, 1]\n",
      "scores:  [1, 4, 1, 3, 0, 1]\n",
      "[[1. 0. 1. 0. 0. 3.]\n",
      " [1. 0. 0. 0. 2. 0.]\n",
      " [0. 0. 0. 3. 0. 0.]\n",
      " [1. 3. 0. 0. 0. 0.]\n",
      " [0. 0. 2. 0. 1. 0.]]\n",
      "['good', 'good', 'bad']\n"
     ]
    }
   ],
   "source": [
    "# compute part\n",
    "output_array = np.zeros((5, 6))\n",
    "output_comment = []\n",
    "\n",
    "for i in range(len(result)):\n",
    "    scores = result[i]['score']\n",
    "    print('scores: ', scores)\n",
    "    for j in range(len(scores)):\n",
    "        question = j\n",
    "        score = scores[j]\n",
    "        # print(question, score)\n",
    "        \n",
    "        output_array[score-1][question] += 1\n",
    "\n",
    "    output_comment.append(result[i]['comment'])\n",
    "\n",
    "print(output_array)\n",
    "print(output_comment)"
   ]
  }
 ],
 "metadata": {
  "kernelspec": {
   "display_name": "Python 3 (ipykernel)",
   "language": "python",
   "name": "python3"
  },
  "language_info": {
   "codemirror_mode": {
    "name": "ipython",
    "version": 3
   },
   "file_extension": ".py",
   "mimetype": "text/x-python",
   "name": "python",
   "nbconvert_exporter": "python",
   "pygments_lexer": "ipython3",
   "version": "3.10.10"
  }
 },
 "nbformat": 4,
 "nbformat_minor": 5
}
